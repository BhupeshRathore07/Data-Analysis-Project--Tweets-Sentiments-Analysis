{
 "cells": [
  {
   "cell_type": "code",
   "execution_count": null,
   "id": "cf11cb67-5c92-4d35-8ec9-1a64b4e2947a",
   "metadata": {},
   "outputs": [],
   "source": [
    "pip install snscrape"
   ]
  },
  {
   "cell_type": "code",
   "execution_count": 3,
   "id": "b06cbfef-ed48-4d26-aa42-7a46b0aaef0f",
   "metadata": {},
   "outputs": [],
   "source": [
    "import snscrape.modules.twitter as sntwitter\n",
    "import pandas as pd"
   ]
  },
  {
   "cell_type": "code",
   "execution_count": 4,
   "id": "63c5a1cb-1a0b-4219-a663-75c7a5c8c3aa",
   "metadata": {},
   "outputs": [],
   "source": [
    "query = \"(#Jiocinema) since:2023-03-31\""
   ]
  },
  {
   "cell_type": "code",
   "execution_count": 5,
   "id": "edbf8edf-99c8-493c-ae3c-091d673b07af",
   "metadata": {},
   "outputs": [],
   "source": [
    "tweets = []\n",
    "limit = 5000"
   ]
  },
  {
   "cell_type": "code",
   "execution_count": 6,
   "id": "e9ebf674-804d-42c3-99a9-c6b43c7b72b8",
   "metadata": {},
   "outputs": [],
   "source": [
    "# for tweet in sntwitter.TwitterSearchScraper(query).get_items():\n",
    "    \n",
    "#     print(vars(tweet))\n",
    "#     break"
   ]
  },
  {
   "cell_type": "code",
   "execution_count": 7,
   "id": "a94b62b7-b0d5-4b9a-ba51-bbcb84f53fb2",
   "metadata": {},
   "outputs": [],
   "source": [
    "for tweet in sntwitter.TwitterSearchScraper(query).get_items():\n",
    "    \n",
    "    # print(vars(tweet))\n",
    "    # break\n",
    "    \n",
    "    if len(tweets) == limit:\n",
    "        break\n",
    "    \n",
    "    else:\n",
    "        tweets.append([tweet.date, tweet.user.username, tweet.rawContent])"
   ]
  },
  {
   "cell_type": "code",
   "execution_count": 8,
   "id": "00769ec4-a91b-4fd5-aabe-eeeb69004522",
   "metadata": {},
   "outputs": [],
   "source": [
    "df = pd.DataFrame(tweets, columns = [\"date\", \"user\", \"tweet\"])"
   ]
  },
  {
   "cell_type": "code",
   "execution_count": 9,
   "id": "4084c5ac-1f25-46ed-9426-60e6d0f11532",
   "metadata": {},
   "outputs": [
    {
     "data": {
      "text/html": [
       "<div>\n",
       "<style scoped>\n",
       "    .dataframe tbody tr th:only-of-type {\n",
       "        vertical-align: middle;\n",
       "    }\n",
       "\n",
       "    .dataframe tbody tr th {\n",
       "        vertical-align: top;\n",
       "    }\n",
       "\n",
       "    .dataframe thead th {\n",
       "        text-align: right;\n",
       "    }\n",
       "</style>\n",
       "<table border=\"1\" class=\"dataframe\">\n",
       "  <thead>\n",
       "    <tr style=\"text-align: right;\">\n",
       "      <th></th>\n",
       "      <th>date</th>\n",
       "      <th>user</th>\n",
       "      <th>tweet</th>\n",
       "    </tr>\n",
       "  </thead>\n",
       "  <tbody>\n",
       "    <tr>\n",
       "      <th>0</th>\n",
       "      <td>2023-04-01 07:27:44+00:00</td>\n",
       "      <td>MohsinK94517919</td>\n",
       "      <td>To check how many sim registered on your Cnic ...</td>\n",
       "    </tr>\n",
       "    <tr>\n",
       "      <th>1</th>\n",
       "      <td>2023-04-01 07:27:34+00:00</td>\n",
       "      <td>JaniceSharon9</td>\n",
       "      <td>Make money online using your phone at the comf...</td>\n",
       "    </tr>\n",
       "    <tr>\n",
       "      <th>2</th>\n",
       "      <td>2023-04-01 07:27:33+00:00</td>\n",
       "      <td>AnaghbratiR</td>\n",
       "      <td>Next Schedule join telegram ⬇️⬇️⬇️⬇️\\nhttps://...</td>\n",
       "    </tr>\n",
       "    <tr>\n",
       "      <th>3</th>\n",
       "      <td>2023-04-01 07:27:09+00:00</td>\n",
       "      <td>Myworld556</td>\n",
       "      <td>Your nic #เอ๋ชนม์สวัสดิ์ #AprilFoolsDay #Austr...</td>\n",
       "    </tr>\n",
       "    <tr>\n",
       "      <th>4</th>\n",
       "      <td>2023-04-01 07:27:00+00:00</td>\n",
       "      <td>AbdulRa76608989</td>\n",
       "      <td>https://t.co/AaV96837gk\\n\\nسرگودھا سے لاہور صر...</td>\n",
       "    </tr>\n",
       "    <tr>\n",
       "      <th>...</th>\n",
       "      <td>...</td>\n",
       "      <td>...</td>\n",
       "      <td>...</td>\n",
       "    </tr>\n",
       "    <tr>\n",
       "      <th>4995</th>\n",
       "      <td>2023-03-31 14:19:29+00:00</td>\n",
       "      <td>Jonah_16</td>\n",
       "      <td>@JioCinema This app sucks. Full on lag on TV w...</td>\n",
       "    </tr>\n",
       "    <tr>\n",
       "      <th>4996</th>\n",
       "      <td>2023-03-31 14:19:27+00:00</td>\n",
       "      <td>FaizanS62954190</td>\n",
       "      <td>Sensational Shami 🔥🔥🔥...#IPL2023 #GTvsCSK #gtv...</td>\n",
       "    </tr>\n",
       "    <tr>\n",
       "      <th>4997</th>\n",
       "      <td>2023-03-31 14:19:26+00:00</td>\n",
       "      <td>changedusrname</td>\n",
       "      <td>Haha #jiocinema promoting Tamil. Clean stream....</td>\n",
       "    </tr>\n",
       "    <tr>\n",
       "      <th>4998</th>\n",
       "      <td>2023-03-31 14:19:25+00:00</td>\n",
       "      <td>JhontyVirat</td>\n",
       "      <td>Isse acha toh Adani ko de dete rights #JioCinema</td>\n",
       "    </tr>\n",
       "    <tr>\n",
       "      <th>4999</th>\n",
       "      <td>2023-03-31 14:19:23+00:00</td>\n",
       "      <td>2742chirag</td>\n",
       "      <td>#JioCinema\\nPehle FIFA World Cup\\nNow IPL\\nKya...</td>\n",
       "    </tr>\n",
       "  </tbody>\n",
       "</table>\n",
       "<p>5000 rows × 3 columns</p>\n",
       "</div>"
      ],
      "text/plain": [
       "                          date             user  \\\n",
       "0    2023-04-01 07:27:44+00:00  MohsinK94517919   \n",
       "1    2023-04-01 07:27:34+00:00    JaniceSharon9   \n",
       "2    2023-04-01 07:27:33+00:00      AnaghbratiR   \n",
       "3    2023-04-01 07:27:09+00:00       Myworld556   \n",
       "4    2023-04-01 07:27:00+00:00  AbdulRa76608989   \n",
       "...                        ...              ...   \n",
       "4995 2023-03-31 14:19:29+00:00         Jonah_16   \n",
       "4996 2023-03-31 14:19:27+00:00  FaizanS62954190   \n",
       "4997 2023-03-31 14:19:26+00:00   changedusrname   \n",
       "4998 2023-03-31 14:19:25+00:00      JhontyVirat   \n",
       "4999 2023-03-31 14:19:23+00:00       2742chirag   \n",
       "\n",
       "                                                  tweet  \n",
       "0     To check how many sim registered on your Cnic ...  \n",
       "1     Make money online using your phone at the comf...  \n",
       "2     Next Schedule join telegram ⬇️⬇️⬇️⬇️\\nhttps://...  \n",
       "3     Your nic #เอ๋ชนม์สวัสดิ์ #AprilFoolsDay #Austr...  \n",
       "4     https://t.co/AaV96837gk\\n\\nسرگودھا سے لاہور صر...  \n",
       "...                                                 ...  \n",
       "4995  @JioCinema This app sucks. Full on lag on TV w...  \n",
       "4996  Sensational Shami 🔥🔥🔥...#IPL2023 #GTvsCSK #gtv...  \n",
       "4997  Haha #jiocinema promoting Tamil. Clean stream....  \n",
       "4998   Isse acha toh Adani ko de dete rights #JioCinema  \n",
       "4999  #JioCinema\\nPehle FIFA World Cup\\nNow IPL\\nKya...  \n",
       "\n",
       "[5000 rows x 3 columns]"
      ]
     },
     "execution_count": 9,
     "metadata": {},
     "output_type": "execute_result"
    }
   ],
   "source": [
    "df"
   ]
  },
  {
   "cell_type": "code",
   "execution_count": 11,
   "id": "5e316bfe-f13c-4b30-acd8-c2c5c5752298",
   "metadata": {},
   "outputs": [],
   "source": [
    "df.to_csv('file1.csv')"
   ]
  }
 ],
 "metadata": {
  "kernelspec": {
   "display_name": "Python 3 (ipykernel)",
   "language": "python",
   "name": "python3"
  },
  "language_info": {
   "codemirror_mode": {
    "name": "ipython",
    "version": 3
   },
   "file_extension": ".py",
   "mimetype": "text/x-python",
   "name": "python",
   "nbconvert_exporter": "python",
   "pygments_lexer": "ipython3",
   "version": "3.10.8"
  }
 },
 "nbformat": 4,
 "nbformat_minor": 5
}
